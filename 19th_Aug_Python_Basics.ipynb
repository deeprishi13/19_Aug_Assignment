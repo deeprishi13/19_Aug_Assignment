{
 "cells": [
  {
   "cell_type": "markdown",
   "id": "8cb16c6e-0714-4d75-8cf2-3a4cae6a0ee7",
   "metadata": {},
   "source": [
    "Python Basic Variables Problem Statement 1. Declare two variables, `x` and `y`, and assign them integer values. Swap the values of these variables without using any temporary variable."
   ]
  },
  {
   "cell_type": "code",
   "execution_count": 7,
   "id": "ec3da465-bf8c-4d8e-ad49-586ba6431f84",
   "metadata": {},
   "outputs": [
    {
     "name": "stdout",
     "output_type": "stream",
     "text": [
      "Value of variables x & y before swap: x = 19 , y = 20\n",
      "Value of variables after swap: x =  20 , y = 19\n"
     ]
    }
   ],
   "source": [
    "'' ' Solution'''\n",
    "x = 19\n",
    "y = 20\n",
    "print(\"Value of variables x & y before swap: x =\", x, \", y =\", y)\n",
    "\n",
    "x = x + y\n",
    "y = x - y\n",
    "x = x - y\n",
    "\n",
    "print(\"Value of variables after swap: x = \", x, \", y =\", y)"
   ]
  },
  {
   "cell_type": "markdown",
   "id": "7b86d98c-e228-459e-bc64-7bb2adc31674",
   "metadata": {},
   "source": [
    "Python Basic Variables Problem Statement 2. Create a program that calculates the area of a rectangle. Take the length and width as inputs from the user and store them in variables. Calculate and display the area."
   ]
  },
  {
   "cell_type": "code",
   "execution_count": 9,
   "id": "c18d2c61-8309-4c2e-bebc-d98a7abb00b1",
   "metadata": {},
   "outputs": [
    {
     "name": "stdin",
     "output_type": "stream",
     "text": [
      "Enter the length of the rectangle:  10.1\n",
      "Enter the width of the rectangle:  6.4\n",
      "Enter the unit of measurement:  inches\n"
     ]
    },
    {
     "name": "stdout",
     "output_type": "stream",
     "text": [
      "The area of the rectangle is 64.64 square inches.\n"
     ]
    }
   ],
   "source": [
    "# Input length required from user in float format\n",
    "length = float(input(\"Enter the length of the rectangle: \"))\n",
    "\n",
    "# Input width required from user in float format\n",
    "width = float(input(\"Enter the width of the rectangle: \"))\n",
    "\n",
    "#  Unit of measurement input from user (e.g. ft, inches, mm etc)\n",
    "unit = input(\"Enter the unit of measurement: \")\n",
    "\n",
    "# Calculating area of the rectangle\n",
    "area = length * width\n",
    "\n",
    "# Displaying the result\n",
    "print(f\"The area of the rectangle is {area} square {unit}.\")"
   ]
  },
  {
   "cell_type": "markdown",
   "id": "65347e37-6be0-4098-8cde-1be78f179623",
   "metadata": {},
   "source": [
    "Python Basic Variables Problem Statement 3. Write a Python program that converts temperatures from Celsius to Fahrenheit. Take the temperature in Celsius as input, store it in a variable, convert it to Fahrenheit, and display the result."
   ]
  },
  {
   "cell_type": "code",
   "execution_count": 15,
   "id": "989f1ec3-d7a2-4fb2-811a-fd40127b43d6",
   "metadata": {},
   "outputs": [
    {
     "name": "stdin",
     "output_type": "stream",
     "text": [
      "Enter temperature in Celsius:  72\n"
     ]
    },
    {
     "name": "stdout",
     "output_type": "stream",
     "text": [
      "72.0 degrees in Celsius is equal to 161.6 degrees Fahrenheit.\n"
     ]
    }
   ],
   "source": [
    "#Create a function to convert Celsius to Fahrenheit\n",
    "def celsius_to_fahrenheit(celsius):\n",
    "    fahrenheit = (celsius * 9/5) + 32\n",
    "    return fahrenheit\n",
    "\n",
    "# User input of tempreture in Celsius\n",
    "celsius = float(input(\"Enter temperature in Celsius: \"))\n",
    "\n",
    "# Applying function to convert input Celsius to Fahrenheit\n",
    "fahrenheit = celsius_to_fahrenheit(celsius)\n",
    "\n",
    "# Display of the result\n",
    "print(f\"{celsius} degrees in Celsius is equivalent to {fahrenheit} degrees Fahrenheit.\")"
   ]
  },
  {
   "cell_type": "markdown",
   "id": "8e2e386d-9d73-4a76-8637-41b590fcf42e",
   "metadata": {},
   "source": [
    "String Based Questions Problem Statement 1 Write a Python program that takes a string as input and prints the length of\n",
    "the string."
   ]
  },
  {
   "cell_type": "code",
   "execution_count": 8,
   "id": "8d065741-25ee-4b66-947f-220b7ffb34b0",
   "metadata": {},
   "outputs": [
    {
     "name": "stdin",
     "output_type": "stream",
     "text": [
      "Enter a String:  Shri Ram Jai Ram Jai Jai Ram\n"
     ]
    },
    {
     "name": "stdout",
     "output_type": "stream",
     "text": [
      "Length of the string is 28.\n"
     ]
    }
   ],
   "source": [
    "# Take input from user\n",
    "input_str = input(\"Enter a String: \")\n",
    "\n",
    "# Call for length of the string\n",
    "len_str = len(input_str)\n",
    "\n",
    "# Print the length of the string\n",
    "print(f\"Length of the string is {len_str}.\")"
   ]
  },
  {
   "cell_type": "markdown",
   "id": "ce6fdad0-d9f1-4995-9ed9-441a49646cea",
   "metadata": {},
   "source": [
    "String Based Questions Problem Statement "
   ]
  },
  {
   "cell_type": "markdown",
   "id": "9686d837-9e89-4a4b-975f-6012343867d9",
   "metadata": {},
   "source": [
    "String Based Questions Problem Statement 2 Create a program that takes a sentence from the user and counts the number\n",
    "of vowels (a, e, i, o, u) in the string."
   ]
  },
  {
   "cell_type": "code",
   "execution_count": 25,
   "id": "2c8326c2-9f72-40ff-9aa5-6c17fe8679b0",
   "metadata": {},
   "outputs": [
    {
     "name": "stdin",
     "output_type": "stream",
     "text": [
      "Kindly enter a sentence:  Shri Raj Jai Ram Jai Jai Ram\n"
     ]
    },
    {
     "name": "stdout",
     "output_type": "stream",
     "text": [
      "Total vowels in the sentence entered are 10.\n"
     ]
    }
   ],
   "source": [
    "# Here we will create first a function to count vowels (define vowels, interate the string to count vowels using loop)\n",
    "\n",
    "def count_of_vowels(sentence_string):\n",
    "    vowels = \"aeiouAEIOU\"\n",
    "    \n",
    "    start_vowel_count = 0\n",
    "    \n",
    "    for character in sentence_string:\n",
    "        if character in vowels:\n",
    "            start_vowel_count += 1\n",
    "    \n",
    "    return start_vowel_count\n",
    "\n",
    "sentence_string = input(\"Kindly enter a sentence: \")\n",
    "\n",
    "#Run function on the input string and store it in variable vowels_count\n",
    "\n",
    "vowels_count =  count_of_vowels(sentence_string)\n",
    "\n",
    "# Print the vowels_count\n",
    "\n",
    "print(f\"Total vowels in the sentence entered are {vowels_count}.\")"
   ]
  },
  {
   "cell_type": "markdown",
   "id": "9e3bbfdc-28a1-42fa-94cd-652b1e1959ba",
   "metadata": {},
   "source": [
    "String Based Questions Problem Statement 3 Given a string, reverse the order of characters using string slicing and print\n",
    "the reversed string."
   ]
  },
  {
   "cell_type": "code",
   "execution_count": 28,
   "id": "58e72415-2be1-4ac7-8e16-9811df655467",
   "metadata": {},
   "outputs": [
    {
     "name": "stdin",
     "output_type": "stream",
     "text": [
      "Please enter a string:  abcd\n"
     ]
    },
    {
     "name": "stdout",
     "output_type": "stream",
     "text": [
      "Reversed string: dcba\n"
     ]
    }
   ],
   "source": [
    "# First create a function to reverse a string\n",
    "def reverse_a_string(input_sentence_string):\n",
    "    # Using slicing to reverse the string\n",
    "    reversed_string = input_sentence_string[::-1]\n",
    "    return reversed_string\n",
    "\n",
    "# Input string\n",
    "input_sentence_string = input(\"Please enter a string: \")\n",
    "\n",
    "# Call the function and print the reversed string\n",
    "reversed_now_string = reverse_a_string(input_sentence_string)\n",
    "print(\"Reversed string:\", reversed_now_string)"
   ]
  },
  {
   "cell_type": "markdown",
   "id": "32cf09df-7103-4245-901e-6e71890e263c",
   "metadata": {},
   "source": [
    "String Based Questions Problem Statement 4 Write a program that takes a string as input and checks if it is a palindrome\n",
    "(reads the same forwards and backwards)."
   ]
  },
  {
   "cell_type": "code",
   "execution_count": 35,
   "id": "38ec6629-bddf-4b86-ad06-cbf5ecabb2a9",
   "metadata": {},
   "outputs": [
    {
     "name": "stdin",
     "output_type": "stream",
     "text": [
      "Please enter a string:  baba\n"
     ]
    },
    {
     "name": "stdout",
     "output_type": "stream",
     "text": [
      "Its not a palindrome!\n"
     ]
    }
   ],
   "source": [
    "#Lets prepare a function that coverts the string to lower cased and removes any spaces in the string \n",
    "\n",
    "def check_if_palindrome(input_str):\n",
    "    # Below will remove spaces and convert the input string to lowercase\n",
    "    modified_str = input_str.replace(\" \", \"\").lower()\n",
    "    # check reversed string with the modified string\n",
    "    return modified_str == modified_str[::-1]\n",
    "\n",
    "# Get user input\n",
    "take_user_input = input(\"Please enter a string: \")\n",
    "\n",
    "# Check for the input is a palindrome\n",
    "if check_if_palindrome(take_user_input):\n",
    "    print(\"Yes, it's a palindrome!\")\n",
    "\n",
    "else: print(\"Its not a palindrome!\")"
   ]
  },
  {
   "cell_type": "markdown",
   "id": "ce91fc2c-32d4-461a-a441-4e8a4267e044",
   "metadata": {},
   "source": [
    "String Based Questions Problem Statement 5 Create a program that takes a string as input and removes all the spaces from\n",
    "it. Print the modified string without spaces."
   ]
  },
  {
   "cell_type": "code",
   "execution_count": 38,
   "id": "5e8e0454-07c2-45b5-ae19-cc0cd978babb",
   "metadata": {},
   "outputs": [],
   "source": [
    "def remove_spaces(input_str):\n",
    "    # Below will remove spaces\n",
    "    modified_str = input_str.replace(\" \", \"\")\n",
    "    return modified_str\n",
    "    \n",
    "# Call the user input\n",
    "take_user_input = input(\"Please enter a string: \")\n",
    "\n",
    "# Run the function to remove spaces on the input string\n",
    "final_output = remove_spaces(take_user_input)\n",
    "\n",
    "print(f\"The text after removing all spaces is {final_output}\")"
   ]
  }
 ],
 "metadata": {
  "kernelspec": {
   "display_name": "Python 3 (ipykernel)",
   "language": "python",
   "name": "python3"
  },
  "language_info": {
   "codemirror_mode": {
    "name": "ipython",
    "version": 3
   },
   "file_extension": ".py",
   "mimetype": "text/x-python",
   "name": "python",
   "nbconvert_exporter": "python",
   "pygments_lexer": "ipython3",
   "version": "3.10.8"
  }
 },
 "nbformat": 4,
 "nbformat_minor": 5
}
